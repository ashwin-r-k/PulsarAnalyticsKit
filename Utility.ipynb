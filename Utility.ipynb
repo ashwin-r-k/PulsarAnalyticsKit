{
 "cells": [
  {
   "cell_type": "code",
   "execution_count": 2,
   "id": "e720749e",
   "metadata": {},
   "outputs": [
    {
     "name": "stdout",
     "output_type": "stream",
     "text": [
      "Updated version-info.txt to version 0.0.2\n"
     ]
    }
   ],
   "source": [
    "import re\n",
    "\n",
    "def update_version_info(filepath, new_version):\n",
    "    # new_version should be like \"0.0.3\"\n",
    "    major, minor, patch = new_version.split(\".\")\n",
    "    tuple_version = f\"({major}, {minor}, {patch}, 0)\"\n",
    "    str_version = f\"{major}.{minor}.{patch}\"\n",
    "\n",
    "    with open(filepath, \"r\") as f:\n",
    "        content = f.read()\n",
    "\n",
    "    # Update filevers and prodvers\n",
    "    content = re.sub(\n",
    "        r\"filevers=\\([^)]+\\)\",\n",
    "        f\"filevers={tuple_version}\",\n",
    "        content\n",
    "    )\n",
    "    content = re.sub(\n",
    "        r\"prodvers=\\([^)]+\\)\",\n",
    "        f\"prodvers={tuple_version}\",\n",
    "        content\n",
    "    )\n",
    "    # Update FileVersion and ProductVersion\n",
    "    content = re.sub(\n",
    "        r\"StringStruct\\('FileVersion', '[^']+'\\)\",\n",
    "        f\"StringStruct('FileVersion', '{str_version}')\",\n",
    "        content\n",
    "    )\n",
    "    content = re.sub(\n",
    "        r\"StringStruct\\('ProductVersion', '[^']+'\\)\",\n",
    "        f\"StringStruct('ProductVersion', '{str_version}')\",\n",
    "        content\n",
    "    )\n",
    "\n",
    "    with open(filepath, \"w\") as f:\n",
    "        f.write(content)\n",
    "\n",
    "    print(f\"Updated version-info.txt to version {new_version}\")\n",
    "\n",
    "    # Also update version.txt\n",
    "    with open(\"version.txt\", \"w\") as vf:\n",
    "        vf.write(str_version)\n",
    "\n",
    "# Usage:\n",
    "update_version_info(\"version-info.txt\", \"0.0.2\")"
   ]
  },
  {
   "cell_type": "code",
   "execution_count": 3,
   "id": "8c3a4c19",
   "metadata": {},
   "outputs": [],
   "source": [
    "filepath = \"token.txt\"\n",
    "with open(filepath, \"r\") as f:\n",
    "    content = f.read()\n",
    "    # add it to environment variable\n",
    "    import os\n",
    "    os.environ[\"TOKEN\"] = content.strip()\n"
   ]
  },
  {
   "cell_type": "code",
   "execution_count": null,
   "id": "b2e09050",
   "metadata": {},
   "outputs": [],
   "source": []
  }
 ],
 "metadata": {
  "kernelspec": {
   "display_name": "physics-env",
   "language": "python",
   "name": "python3"
  },
  "language_info": {
   "codemirror_mode": {
    "name": "ipython",
    "version": 3
   },
   "file_extension": ".py",
   "mimetype": "text/x-python",
   "name": "python",
   "nbconvert_exporter": "python",
   "pygments_lexer": "ipython3",
   "version": "3.10.18"
  }
 },
 "nbformat": 4,
 "nbformat_minor": 5
}
